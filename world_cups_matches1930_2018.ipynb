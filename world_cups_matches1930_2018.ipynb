{
  "nbformat": 4,
  "nbformat_minor": 0,
  "metadata": {
    "colab": {
      "name": "world_cups_matches1930_2018.ipynb",
      "provenance": [],
      "collapsed_sections": [
        "AyNxDUCtLYGQ",
        "AU-vrYvbMTrC",
        "xWVBajlaM0or",
        "VCvjPB90M7dJ",
        "CCT5qWN7NAbb",
        "DE_RBBvLNJKq",
        "KG4CgLorNMka"
      ],
      "authorship_tag": "ABX9TyMhXxVBj5Pw31SUYSounVbx",
      "include_colab_link": true
    },
    "kernelspec": {
      "name": "python3",
      "display_name": "Python 3"
    },
    "language_info": {
      "name": "python"
    }
  },
  "cells": [
    {
      "cell_type": "markdown",
      "metadata": {
        "id": "view-in-github",
        "colab_type": "text"
      },
      "source": [
        "<a href=\"https://colab.research.google.com/github/gabrielcn/FIFAWorldCups/blob/main/world_cups_matches1930_2018.ipynb\" target=\"_parent\"><img src=\"https://colab.research.google.com/assets/colab-badge.svg\" alt=\"Open In Colab\"/></a>"
      ]
    },
    {
      "cell_type": "markdown",
      "source": [
        "# Projeto sobre a história das copas e 20 anos do pentacampeonato\n"
      ],
      "metadata": {
        "id": "iYO8U0UtLV7J"
      }
    },
    {
      "cell_type": "markdown",
      "source": [
        "## Instalação das Bibliotecas necessárias"
      ],
      "metadata": {
        "id": "AyNxDUCtLYGQ"
      }
    },
    {
      "cell_type": "code",
      "source": [
        "!pip install pandas\n",
        "!pip install nympy\n",
        "!pip install matplotlib\n",
        "!pip install seaborn"
      ],
      "metadata": {
        "colab": {
          "base_uri": "https://localhost:8080/"
        },
        "id": "_zhLrZxLhW6m",
        "outputId": "ca0dd13b-b198-458d-80d5-9e63b1de79fa"
      },
      "execution_count": null,
      "outputs": [
        {
          "output_type": "stream",
          "name": "stdout",
          "text": [
            "Looking in indexes: https://pypi.org/simple, https://us-python.pkg.dev/colab-wheels/public/simple/\n",
            "Requirement already satisfied: pandas in /usr/local/lib/python3.7/dist-packages (1.3.5)\n",
            "Requirement already satisfied: python-dateutil>=2.7.3 in /usr/local/lib/python3.7/dist-packages (from pandas) (2.8.2)\n",
            "Requirement already satisfied: pytz>=2017.3 in /usr/local/lib/python3.7/dist-packages (from pandas) (2022.1)\n",
            "Requirement already satisfied: numpy>=1.17.3 in /usr/local/lib/python3.7/dist-packages (from pandas) (1.21.6)\n",
            "Requirement already satisfied: six>=1.5 in /usr/local/lib/python3.7/dist-packages (from python-dateutil>=2.7.3->pandas) (1.15.0)\n",
            "Looking in indexes: https://pypi.org/simple, https://us-python.pkg.dev/colab-wheels/public/simple/\n",
            "\u001b[31mERROR: Could not find a version that satisfies the requirement nympy (from versions: none)\u001b[0m\n",
            "\u001b[31mERROR: No matching distribution found for nympy\u001b[0m\n",
            "Looking in indexes: https://pypi.org/simple, https://us-python.pkg.dev/colab-wheels/public/simple/\n",
            "Requirement already satisfied: matplotlib in /usr/local/lib/python3.7/dist-packages (3.2.2)\n",
            "Requirement already satisfied: python-dateutil>=2.1 in /usr/local/lib/python3.7/dist-packages (from matplotlib) (2.8.2)\n",
            "Requirement already satisfied: cycler>=0.10 in /usr/local/lib/python3.7/dist-packages (from matplotlib) (0.11.0)\n",
            "Requirement already satisfied: numpy>=1.11 in /usr/local/lib/python3.7/dist-packages (from matplotlib) (1.21.6)\n",
            "Requirement already satisfied: kiwisolver>=1.0.1 in /usr/local/lib/python3.7/dist-packages (from matplotlib) (1.4.4)\n",
            "Requirement already satisfied: pyparsing!=2.0.4,!=2.1.2,!=2.1.6,>=2.0.1 in /usr/local/lib/python3.7/dist-packages (from matplotlib) (3.0.9)\n",
            "Requirement already satisfied: typing-extensions in /usr/local/lib/python3.7/dist-packages (from kiwisolver>=1.0.1->matplotlib) (4.1.1)\n",
            "Requirement already satisfied: six>=1.5 in /usr/local/lib/python3.7/dist-packages (from python-dateutil>=2.1->matplotlib) (1.15.0)\n",
            "Looking in indexes: https://pypi.org/simple, https://us-python.pkg.dev/colab-wheels/public/simple/\n",
            "Requirement already satisfied: seaborn in /usr/local/lib/python3.7/dist-packages (0.11.2)\n",
            "Requirement already satisfied: pandas>=0.23 in /usr/local/lib/python3.7/dist-packages (from seaborn) (1.3.5)\n",
            "Requirement already satisfied: numpy>=1.15 in /usr/local/lib/python3.7/dist-packages (from seaborn) (1.21.6)\n",
            "Requirement already satisfied: scipy>=1.0 in /usr/local/lib/python3.7/dist-packages (from seaborn) (1.7.3)\n",
            "Requirement already satisfied: matplotlib>=2.2 in /usr/local/lib/python3.7/dist-packages (from seaborn) (3.2.2)\n",
            "Requirement already satisfied: cycler>=0.10 in /usr/local/lib/python3.7/dist-packages (from matplotlib>=2.2->seaborn) (0.11.0)\n",
            "Requirement already satisfied: pyparsing!=2.0.4,!=2.1.2,!=2.1.6,>=2.0.1 in /usr/local/lib/python3.7/dist-packages (from matplotlib>=2.2->seaborn) (3.0.9)\n",
            "Requirement already satisfied: python-dateutil>=2.1 in /usr/local/lib/python3.7/dist-packages (from matplotlib>=2.2->seaborn) (2.8.2)\n",
            "Requirement already satisfied: kiwisolver>=1.0.1 in /usr/local/lib/python3.7/dist-packages (from matplotlib>=2.2->seaborn) (1.4.4)\n",
            "Requirement already satisfied: typing-extensions in /usr/local/lib/python3.7/dist-packages (from kiwisolver>=1.0.1->matplotlib>=2.2->seaborn) (4.1.1)\n",
            "Requirement already satisfied: pytz>=2017.3 in /usr/local/lib/python3.7/dist-packages (from pandas>=0.23->seaborn) (2022.1)\n",
            "Requirement already satisfied: six>=1.5 in /usr/local/lib/python3.7/dist-packages (from python-dateutil>=2.1->matplotlib>=2.2->seaborn) (1.15.0)\n"
          ]
        }
      ]
    },
    {
      "cell_type": "markdown",
      "source": [
        "## Importação das Bibliotecas necessárias para análise"
      ],
      "metadata": {
        "id": "AU-vrYvbMTrC"
      }
    },
    {
      "cell_type": "code",
      "execution_count": null,
      "metadata": {
        "id": "X4GTX5gVg89N"
      },
      "outputs": [],
      "source": [
        "# This Python 3 environment comes with many helpful analytics libraries installed\n",
        "# It is defined by the kaggle/python docker image: https://github.com/kaggle/docker-python\n",
        "# For example, here's several helpful packages to load in \n",
        "\n",
        "import numpy as np # linear algebra\n",
        "import pandas as pd # data processing, CSV file I/O (e.g. pd.read_csv)\n",
        "import matplotlib.pyplot as plt\n",
        "import seaborn as sns\n",
        "\n",
        "# Input data files are available in the \"../input/\" directory.\n",
        "# For example, running this (by clicking run or pressing Shift+Enter) will list the files in the input directory\n",
        "\n",
        "import os"
      ]
    },
    {
      "cell_type": "markdown",
      "source": [
        "## Importação do arquivo de dados csv"
      ],
      "metadata": {
        "id": "xWVBajlaM0or"
      }
    },
    {
      "cell_type": "code",
      "source": [
        "# Importação dos arquivos usados para análise\n",
        "WorldCupMatches = pd.read_csv('WorldCupMatches1930_2018.csv', encoding='utf-8')"
      ],
      "metadata": {
        "id": "Vsvab_BShp3N"
      },
      "execution_count": null,
      "outputs": []
    },
    {
      "cell_type": "markdown",
      "source": [
        "## Formato da base de dados (21 col, 11 linhas)"
      ],
      "metadata": {
        "id": "VCvjPB90M7dJ"
      }
    },
    {
      "cell_type": "code",
      "source": [
        "# Dimensão da base de dados\n",
        "print('Partidas das Copas do Mundo: ', WorldCupMatches.shape)"
      ],
      "metadata": {
        "colab": {
          "base_uri": "https://localhost:8080/"
        },
        "id": "cf4nIbclh2B0",
        "outputId": "885923e1-8f6a-46c0-c8e4-b1b13c80ce6c"
      },
      "execution_count": null,
      "outputs": [
        {
          "output_type": "stream",
          "name": "stdout",
          "text": [
            "Partidas das Copas do Mundo:  (916, 10)\n"
          ]
        }
      ]
    },
    {
      "cell_type": "markdown",
      "source": [
        "## Informações sobre o dataset"
      ],
      "metadata": {
        "id": "CCT5qWN7NAbb"
      }
    },
    {
      "cell_type": "code",
      "source": [
        "WorldCupMatches.info()"
      ],
      "metadata": {
        "colab": {
          "base_uri": "https://localhost:8080/"
        },
        "id": "7KPXYgF4iEjc",
        "outputId": "8b55b0a7-5806-43ab-b76e-542fc8994c36"
      },
      "execution_count": null,
      "outputs": [
        {
          "output_type": "stream",
          "name": "stdout",
          "text": [
            "<class 'pandas.core.frame.DataFrame'>\n",
            "RangeIndex: 916 entries, 0 to 915\n",
            "Data columns (total 10 columns):\n",
            " #   Column           Non-Null Count  Dtype  \n",
            "---  ------           --------------  -----  \n",
            " 0   Year             916 non-null    int64  \n",
            " 1   Datetime         916 non-null    object \n",
            " 2   Stage            916 non-null    object \n",
            " 3   Stadium          916 non-null    object \n",
            " 4   City             916 non-null    object \n",
            " 5   Home Team Name   916 non-null    object \n",
            " 6   Home Team Goals  916 non-null    int64  \n",
            " 7   Away Team Goals  916 non-null    int64  \n",
            " 8   Away Team Name   916 non-null    object \n",
            " 9   Attendance       914 non-null    float64\n",
            "dtypes: float64(1), int64(3), object(6)\n",
            "memory usage: 71.7+ KB\n"
          ]
        }
      ]
    },
    {
      "cell_type": "markdown",
      "source": [
        "## Descrição básica "
      ],
      "metadata": {
        "id": "DE_RBBvLNJKq"
      }
    },
    {
      "cell_type": "code",
      "source": [
        "WorldCupMatches.describe()"
      ],
      "metadata": {
        "colab": {
          "base_uri": "https://localhost:8080/",
          "height": 300
        },
        "id": "zfctk7oPig0F",
        "outputId": "8eca6e81-db4b-4491-9a9f-d907c81359bf"
      },
      "execution_count": null,
      "outputs": [
        {
          "output_type": "execute_result",
          "data": {
            "text/plain": [
              "              Year  Home Team Goals  Away Team Goals     Attendance\n",
              "count   916.000000       916.000000       916.000000     914.000000\n",
              "mean   1987.388646         1.783843         1.036026   45319.308534\n",
              "std      23.219966         1.596171         1.077242   22932.491797\n",
              "min    1930.000000         0.000000         0.000000    2000.000000\n",
              "25%    1970.000000         1.000000         0.000000   30600.000000\n",
              "50%    1990.000000         1.000000         1.000000   42107.000000\n",
              "75%    2006.000000         3.000000         2.000000   61192.250000\n",
              "max    2018.000000        10.000000         7.000000  173850.000000"
            ],
            "text/html": [
              "\n",
              "  <div id=\"df-05a096aa-370f-406f-887d-b23d2cb19044\">\n",
              "    <div class=\"colab-df-container\">\n",
              "      <div>\n",
              "<style scoped>\n",
              "    .dataframe tbody tr th:only-of-type {\n",
              "        vertical-align: middle;\n",
              "    }\n",
              "\n",
              "    .dataframe tbody tr th {\n",
              "        vertical-align: top;\n",
              "    }\n",
              "\n",
              "    .dataframe thead th {\n",
              "        text-align: right;\n",
              "    }\n",
              "</style>\n",
              "<table border=\"1\" class=\"dataframe\">\n",
              "  <thead>\n",
              "    <tr style=\"text-align: right;\">\n",
              "      <th></th>\n",
              "      <th>Year</th>\n",
              "      <th>Home Team Goals</th>\n",
              "      <th>Away Team Goals</th>\n",
              "      <th>Attendance</th>\n",
              "    </tr>\n",
              "  </thead>\n",
              "  <tbody>\n",
              "    <tr>\n",
              "      <th>count</th>\n",
              "      <td>916.000000</td>\n",
              "      <td>916.000000</td>\n",
              "      <td>916.000000</td>\n",
              "      <td>914.000000</td>\n",
              "    </tr>\n",
              "    <tr>\n",
              "      <th>mean</th>\n",
              "      <td>1987.388646</td>\n",
              "      <td>1.783843</td>\n",
              "      <td>1.036026</td>\n",
              "      <td>45319.308534</td>\n",
              "    </tr>\n",
              "    <tr>\n",
              "      <th>std</th>\n",
              "      <td>23.219966</td>\n",
              "      <td>1.596171</td>\n",
              "      <td>1.077242</td>\n",
              "      <td>22932.491797</td>\n",
              "    </tr>\n",
              "    <tr>\n",
              "      <th>min</th>\n",
              "      <td>1930.000000</td>\n",
              "      <td>0.000000</td>\n",
              "      <td>0.000000</td>\n",
              "      <td>2000.000000</td>\n",
              "    </tr>\n",
              "    <tr>\n",
              "      <th>25%</th>\n",
              "      <td>1970.000000</td>\n",
              "      <td>1.000000</td>\n",
              "      <td>0.000000</td>\n",
              "      <td>30600.000000</td>\n",
              "    </tr>\n",
              "    <tr>\n",
              "      <th>50%</th>\n",
              "      <td>1990.000000</td>\n",
              "      <td>1.000000</td>\n",
              "      <td>1.000000</td>\n",
              "      <td>42107.000000</td>\n",
              "    </tr>\n",
              "    <tr>\n",
              "      <th>75%</th>\n",
              "      <td>2006.000000</td>\n",
              "      <td>3.000000</td>\n",
              "      <td>2.000000</td>\n",
              "      <td>61192.250000</td>\n",
              "    </tr>\n",
              "    <tr>\n",
              "      <th>max</th>\n",
              "      <td>2018.000000</td>\n",
              "      <td>10.000000</td>\n",
              "      <td>7.000000</td>\n",
              "      <td>173850.000000</td>\n",
              "    </tr>\n",
              "  </tbody>\n",
              "</table>\n",
              "</div>\n",
              "      <button class=\"colab-df-convert\" onclick=\"convertToInteractive('df-05a096aa-370f-406f-887d-b23d2cb19044')\"\n",
              "              title=\"Convert this dataframe to an interactive table.\"\n",
              "              style=\"display:none;\">\n",
              "        \n",
              "  <svg xmlns=\"http://www.w3.org/2000/svg\" height=\"24px\"viewBox=\"0 0 24 24\"\n",
              "       width=\"24px\">\n",
              "    <path d=\"M0 0h24v24H0V0z\" fill=\"none\"/>\n",
              "    <path d=\"M18.56 5.44l.94 2.06.94-2.06 2.06-.94-2.06-.94-.94-2.06-.94 2.06-2.06.94zm-11 1L8.5 8.5l.94-2.06 2.06-.94-2.06-.94L8.5 2.5l-.94 2.06-2.06.94zm10 10l.94 2.06.94-2.06 2.06-.94-2.06-.94-.94-2.06-.94 2.06-2.06.94z\"/><path d=\"M17.41 7.96l-1.37-1.37c-.4-.4-.92-.59-1.43-.59-.52 0-1.04.2-1.43.59L10.3 9.45l-7.72 7.72c-.78.78-.78 2.05 0 2.83L4 21.41c.39.39.9.59 1.41.59.51 0 1.02-.2 1.41-.59l7.78-7.78 2.81-2.81c.8-.78.8-2.07 0-2.86zM5.41 20L4 18.59l7.72-7.72 1.47 1.35L5.41 20z\"/>\n",
              "  </svg>\n",
              "      </button>\n",
              "      \n",
              "  <style>\n",
              "    .colab-df-container {\n",
              "      display:flex;\n",
              "      flex-wrap:wrap;\n",
              "      gap: 12px;\n",
              "    }\n",
              "\n",
              "    .colab-df-convert {\n",
              "      background-color: #E8F0FE;\n",
              "      border: none;\n",
              "      border-radius: 50%;\n",
              "      cursor: pointer;\n",
              "      display: none;\n",
              "      fill: #1967D2;\n",
              "      height: 32px;\n",
              "      padding: 0 0 0 0;\n",
              "      width: 32px;\n",
              "    }\n",
              "\n",
              "    .colab-df-convert:hover {\n",
              "      background-color: #E2EBFA;\n",
              "      box-shadow: 0px 1px 2px rgba(60, 64, 67, 0.3), 0px 1px 3px 1px rgba(60, 64, 67, 0.15);\n",
              "      fill: #174EA6;\n",
              "    }\n",
              "\n",
              "    [theme=dark] .colab-df-convert {\n",
              "      background-color: #3B4455;\n",
              "      fill: #D2E3FC;\n",
              "    }\n",
              "\n",
              "    [theme=dark] .colab-df-convert:hover {\n",
              "      background-color: #434B5C;\n",
              "      box-shadow: 0px 1px 3px 1px rgba(0, 0, 0, 0.15);\n",
              "      filter: drop-shadow(0px 1px 2px rgba(0, 0, 0, 0.3));\n",
              "      fill: #FFFFFF;\n",
              "    }\n",
              "  </style>\n",
              "\n",
              "      <script>\n",
              "        const buttonEl =\n",
              "          document.querySelector('#df-05a096aa-370f-406f-887d-b23d2cb19044 button.colab-df-convert');\n",
              "        buttonEl.style.display =\n",
              "          google.colab.kernel.accessAllowed ? 'block' : 'none';\n",
              "\n",
              "        async function convertToInteractive(key) {\n",
              "          const element = document.querySelector('#df-05a096aa-370f-406f-887d-b23d2cb19044');\n",
              "          const dataTable =\n",
              "            await google.colab.kernel.invokeFunction('convertToInteractive',\n",
              "                                                     [key], {});\n",
              "          if (!dataTable) return;\n",
              "\n",
              "          const docLinkHtml = 'Like what you see? Visit the ' +\n",
              "            '<a target=\"_blank\" href=https://colab.research.google.com/notebooks/data_table.ipynb>data table notebook</a>'\n",
              "            + ' to learn more about interactive tables.';\n",
              "          element.innerHTML = '';\n",
              "          dataTable['output_type'] = 'display_data';\n",
              "          await google.colab.output.renderOutput(dataTable, element);\n",
              "          const docLink = document.createElement('div');\n",
              "          docLink.innerHTML = docLinkHtml;\n",
              "          element.appendChild(docLink);\n",
              "        }\n",
              "      </script>\n",
              "    </div>\n",
              "  </div>\n",
              "  "
            ]
          },
          "metadata": {},
          "execution_count": 17
        }
      ]
    },
    {
      "cell_type": "markdown",
      "source": [
        "A base compreende a informação das partidas de vinte e uma edições de Copa do Mundo, entre 1930 e 2018 - aqui cabe-se ressaltar que as edições de 1942 e 1946 não ocorreram em virtude da Segunda Guerra Mundial.\n",
        "\n",
        "As edições tiveram em média 1,7 gols marcados por time (casa) e 1,03 gols marcados por time (fora)"
      ],
      "metadata": {
        "id": "eATLFVt7lEX2"
      }
    },
    {
      "cell_type": "markdown",
      "source": [
        "## Desenvolvimento"
      ],
      "metadata": {
        "id": "KG4CgLorNMka"
      }
    },
    {
      "cell_type": "code",
      "source": [
        "WorldCupMatches"
      ],
      "metadata": {
        "colab": {
          "base_uri": "https://localhost:8080/",
          "height": 424
        },
        "id": "Erz0XiYsiLXE",
        "outputId": "0bc6c32e-c734-457b-81cc-b2c0f39aa54b"
      },
      "execution_count": null,
      "outputs": [
        {
          "output_type": "execute_result",
          "data": {
            "text/plain": [
              "     Year              Datetime                     Stage  \\\n",
              "0    1930  13 Jul 1930 - 15:00                    Group 1   \n",
              "1    1930  13 Jul 1930 - 15:00                    Group 4   \n",
              "2    1930  14 Jul 1930 - 12:45                    Group 2   \n",
              "3    1930  14 Jul 1930 - 14:50                    Group 3   \n",
              "4    1930  15 Jul 1930 - 16:00                    Group 1   \n",
              "..    ...                   ...                       ...   \n",
              "911  2018   07 Jul 2018 - 21:00            Quarter-finals   \n",
              "912  2018   10 Jul 2018 - 21:00               Semi-finals   \n",
              "913  2018   11 Jul 2018 - 21:00               Semi-finals   \n",
              "914  2018   14 Jul 2018 - 17:00  Play-off for third place   \n",
              "915  2018   15 Jul 2018 - 18:00                     Final   \n",
              "\n",
              "                       Stadium            City Home Team Name  \\\n",
              "0                      Pocitos     Montevideo          France   \n",
              "1               Parque Central     Montevideo             USA   \n",
              "2               Parque Central     Montevideo      Yugoslavia   \n",
              "3                      Pocitos     Montevideo         Romania   \n",
              "4               Parque Central     Montevideo       Argentina   \n",
              "..                         ...             ...            ...   \n",
              "911             Fisht Stadium,           Sochi         Russia   \n",
              "912  Saint Petersburg Stadium,  St. Petersburg         France   \n",
              "913          Luzhniki Stadium,          Moscow        Croatia   \n",
              "914  Saint Petersburg Stadium,  St. Petersburg        Belgium   \n",
              "915          Luzhniki Stadium,          Moscow         France   \n",
              "\n",
              "     Home Team Goals  Away Team Goals Away Team Name  Attendance  \n",
              "0                  4                1         Mexico      4444.0  \n",
              "1                  3                0        Belgium     18346.0  \n",
              "2                  2                1         Brazil     24059.0  \n",
              "3                  3                1           Peru      2549.0  \n",
              "4                  1                0         France     23409.0  \n",
              "..               ...              ...            ...         ...  \n",
              "911                2                2        Croatia     44287.0  \n",
              "912                1                0        Belgium     64286.0  \n",
              "913                2                1        England     78011.0  \n",
              "914                2                0        England     64406.0  \n",
              "915                4                2        Croatia     78011.0  \n",
              "\n",
              "[916 rows x 10 columns]"
            ],
            "text/html": [
              "\n",
              "  <div id=\"df-c076ecc8-f7ee-4911-8f2a-d9158968f0d5\">\n",
              "    <div class=\"colab-df-container\">\n",
              "      <div>\n",
              "<style scoped>\n",
              "    .dataframe tbody tr th:only-of-type {\n",
              "        vertical-align: middle;\n",
              "    }\n",
              "\n",
              "    .dataframe tbody tr th {\n",
              "        vertical-align: top;\n",
              "    }\n",
              "\n",
              "    .dataframe thead th {\n",
              "        text-align: right;\n",
              "    }\n",
              "</style>\n",
              "<table border=\"1\" class=\"dataframe\">\n",
              "  <thead>\n",
              "    <tr style=\"text-align: right;\">\n",
              "      <th></th>\n",
              "      <th>Year</th>\n",
              "      <th>Datetime</th>\n",
              "      <th>Stage</th>\n",
              "      <th>Stadium</th>\n",
              "      <th>City</th>\n",
              "      <th>Home Team Name</th>\n",
              "      <th>Home Team Goals</th>\n",
              "      <th>Away Team Goals</th>\n",
              "      <th>Away Team Name</th>\n",
              "      <th>Attendance</th>\n",
              "    </tr>\n",
              "  </thead>\n",
              "  <tbody>\n",
              "    <tr>\n",
              "      <th>0</th>\n",
              "      <td>1930</td>\n",
              "      <td>13 Jul 1930 - 15:00</td>\n",
              "      <td>Group 1</td>\n",
              "      <td>Pocitos</td>\n",
              "      <td>Montevideo</td>\n",
              "      <td>France</td>\n",
              "      <td>4</td>\n",
              "      <td>1</td>\n",
              "      <td>Mexico</td>\n",
              "      <td>4444.0</td>\n",
              "    </tr>\n",
              "    <tr>\n",
              "      <th>1</th>\n",
              "      <td>1930</td>\n",
              "      <td>13 Jul 1930 - 15:00</td>\n",
              "      <td>Group 4</td>\n",
              "      <td>Parque Central</td>\n",
              "      <td>Montevideo</td>\n",
              "      <td>USA</td>\n",
              "      <td>3</td>\n",
              "      <td>0</td>\n",
              "      <td>Belgium</td>\n",
              "      <td>18346.0</td>\n",
              "    </tr>\n",
              "    <tr>\n",
              "      <th>2</th>\n",
              "      <td>1930</td>\n",
              "      <td>14 Jul 1930 - 12:45</td>\n",
              "      <td>Group 2</td>\n",
              "      <td>Parque Central</td>\n",
              "      <td>Montevideo</td>\n",
              "      <td>Yugoslavia</td>\n",
              "      <td>2</td>\n",
              "      <td>1</td>\n",
              "      <td>Brazil</td>\n",
              "      <td>24059.0</td>\n",
              "    </tr>\n",
              "    <tr>\n",
              "      <th>3</th>\n",
              "      <td>1930</td>\n",
              "      <td>14 Jul 1930 - 14:50</td>\n",
              "      <td>Group 3</td>\n",
              "      <td>Pocitos</td>\n",
              "      <td>Montevideo</td>\n",
              "      <td>Romania</td>\n",
              "      <td>3</td>\n",
              "      <td>1</td>\n",
              "      <td>Peru</td>\n",
              "      <td>2549.0</td>\n",
              "    </tr>\n",
              "    <tr>\n",
              "      <th>4</th>\n",
              "      <td>1930</td>\n",
              "      <td>15 Jul 1930 - 16:00</td>\n",
              "      <td>Group 1</td>\n",
              "      <td>Parque Central</td>\n",
              "      <td>Montevideo</td>\n",
              "      <td>Argentina</td>\n",
              "      <td>1</td>\n",
              "      <td>0</td>\n",
              "      <td>France</td>\n",
              "      <td>23409.0</td>\n",
              "    </tr>\n",
              "    <tr>\n",
              "      <th>...</th>\n",
              "      <td>...</td>\n",
              "      <td>...</td>\n",
              "      <td>...</td>\n",
              "      <td>...</td>\n",
              "      <td>...</td>\n",
              "      <td>...</td>\n",
              "      <td>...</td>\n",
              "      <td>...</td>\n",
              "      <td>...</td>\n",
              "      <td>...</td>\n",
              "    </tr>\n",
              "    <tr>\n",
              "      <th>911</th>\n",
              "      <td>2018</td>\n",
              "      <td>07 Jul 2018 - 21:00</td>\n",
              "      <td>Quarter-finals</td>\n",
              "      <td>Fisht Stadium,</td>\n",
              "      <td>Sochi</td>\n",
              "      <td>Russia</td>\n",
              "      <td>2</td>\n",
              "      <td>2</td>\n",
              "      <td>Croatia</td>\n",
              "      <td>44287.0</td>\n",
              "    </tr>\n",
              "    <tr>\n",
              "      <th>912</th>\n",
              "      <td>2018</td>\n",
              "      <td>10 Jul 2018 - 21:00</td>\n",
              "      <td>Semi-finals</td>\n",
              "      <td>Saint Petersburg Stadium,</td>\n",
              "      <td>St. Petersburg</td>\n",
              "      <td>France</td>\n",
              "      <td>1</td>\n",
              "      <td>0</td>\n",
              "      <td>Belgium</td>\n",
              "      <td>64286.0</td>\n",
              "    </tr>\n",
              "    <tr>\n",
              "      <th>913</th>\n",
              "      <td>2018</td>\n",
              "      <td>11 Jul 2018 - 21:00</td>\n",
              "      <td>Semi-finals</td>\n",
              "      <td>Luzhniki Stadium,</td>\n",
              "      <td>Moscow</td>\n",
              "      <td>Croatia</td>\n",
              "      <td>2</td>\n",
              "      <td>1</td>\n",
              "      <td>England</td>\n",
              "      <td>78011.0</td>\n",
              "    </tr>\n",
              "    <tr>\n",
              "      <th>914</th>\n",
              "      <td>2018</td>\n",
              "      <td>14 Jul 2018 - 17:00</td>\n",
              "      <td>Play-off for third place</td>\n",
              "      <td>Saint Petersburg Stadium,</td>\n",
              "      <td>St. Petersburg</td>\n",
              "      <td>Belgium</td>\n",
              "      <td>2</td>\n",
              "      <td>0</td>\n",
              "      <td>England</td>\n",
              "      <td>64406.0</td>\n",
              "    </tr>\n",
              "    <tr>\n",
              "      <th>915</th>\n",
              "      <td>2018</td>\n",
              "      <td>15 Jul 2018 - 18:00</td>\n",
              "      <td>Final</td>\n",
              "      <td>Luzhniki Stadium,</td>\n",
              "      <td>Moscow</td>\n",
              "      <td>France</td>\n",
              "      <td>4</td>\n",
              "      <td>2</td>\n",
              "      <td>Croatia</td>\n",
              "      <td>78011.0</td>\n",
              "    </tr>\n",
              "  </tbody>\n",
              "</table>\n",
              "<p>916 rows × 10 columns</p>\n",
              "</div>\n",
              "      <button class=\"colab-df-convert\" onclick=\"convertToInteractive('df-c076ecc8-f7ee-4911-8f2a-d9158968f0d5')\"\n",
              "              title=\"Convert this dataframe to an interactive table.\"\n",
              "              style=\"display:none;\">\n",
              "        \n",
              "  <svg xmlns=\"http://www.w3.org/2000/svg\" height=\"24px\"viewBox=\"0 0 24 24\"\n",
              "       width=\"24px\">\n",
              "    <path d=\"M0 0h24v24H0V0z\" fill=\"none\"/>\n",
              "    <path d=\"M18.56 5.44l.94 2.06.94-2.06 2.06-.94-2.06-.94-.94-2.06-.94 2.06-2.06.94zm-11 1L8.5 8.5l.94-2.06 2.06-.94-2.06-.94L8.5 2.5l-.94 2.06-2.06.94zm10 10l.94 2.06.94-2.06 2.06-.94-2.06-.94-.94-2.06-.94 2.06-2.06.94z\"/><path d=\"M17.41 7.96l-1.37-1.37c-.4-.4-.92-.59-1.43-.59-.52 0-1.04.2-1.43.59L10.3 9.45l-7.72 7.72c-.78.78-.78 2.05 0 2.83L4 21.41c.39.39.9.59 1.41.59.51 0 1.02-.2 1.41-.59l7.78-7.78 2.81-2.81c.8-.78.8-2.07 0-2.86zM5.41 20L4 18.59l7.72-7.72 1.47 1.35L5.41 20z\"/>\n",
              "  </svg>\n",
              "      </button>\n",
              "      \n",
              "  <style>\n",
              "    .colab-df-container {\n",
              "      display:flex;\n",
              "      flex-wrap:wrap;\n",
              "      gap: 12px;\n",
              "    }\n",
              "\n",
              "    .colab-df-convert {\n",
              "      background-color: #E8F0FE;\n",
              "      border: none;\n",
              "      border-radius: 50%;\n",
              "      cursor: pointer;\n",
              "      display: none;\n",
              "      fill: #1967D2;\n",
              "      height: 32px;\n",
              "      padding: 0 0 0 0;\n",
              "      width: 32px;\n",
              "    }\n",
              "\n",
              "    .colab-df-convert:hover {\n",
              "      background-color: #E2EBFA;\n",
              "      box-shadow: 0px 1px 2px rgba(60, 64, 67, 0.3), 0px 1px 3px 1px rgba(60, 64, 67, 0.15);\n",
              "      fill: #174EA6;\n",
              "    }\n",
              "\n",
              "    [theme=dark] .colab-df-convert {\n",
              "      background-color: #3B4455;\n",
              "      fill: #D2E3FC;\n",
              "    }\n",
              "\n",
              "    [theme=dark] .colab-df-convert:hover {\n",
              "      background-color: #434B5C;\n",
              "      box-shadow: 0px 1px 3px 1px rgba(0, 0, 0, 0.15);\n",
              "      filter: drop-shadow(0px 1px 2px rgba(0, 0, 0, 0.3));\n",
              "      fill: #FFFFFF;\n",
              "    }\n",
              "  </style>\n",
              "\n",
              "      <script>\n",
              "        const buttonEl =\n",
              "          document.querySelector('#df-c076ecc8-f7ee-4911-8f2a-d9158968f0d5 button.colab-df-convert');\n",
              "        buttonEl.style.display =\n",
              "          google.colab.kernel.accessAllowed ? 'block' : 'none';\n",
              "\n",
              "        async function convertToInteractive(key) {\n",
              "          const element = document.querySelector('#df-c076ecc8-f7ee-4911-8f2a-d9158968f0d5');\n",
              "          const dataTable =\n",
              "            await google.colab.kernel.invokeFunction('convertToInteractive',\n",
              "                                                     [key], {});\n",
              "          if (!dataTable) return;\n",
              "\n",
              "          const docLinkHtml = 'Like what you see? Visit the ' +\n",
              "            '<a target=\"_blank\" href=https://colab.research.google.com/notebooks/data_table.ipynb>data table notebook</a>'\n",
              "            + ' to learn more about interactive tables.';\n",
              "          element.innerHTML = '';\n",
              "          dataTable['output_type'] = 'display_data';\n",
              "          await google.colab.output.renderOutput(dataTable, element);\n",
              "          const docLink = document.createElement('div');\n",
              "          docLink.innerHTML = docLinkHtml;\n",
              "          element.appendChild(docLink);\n",
              "        }\n",
              "      </script>\n",
              "    </div>\n",
              "  </div>\n",
              "  "
            ]
          },
          "metadata": {},
          "execution_count": 16
        }
      ]
    },
    {
      "cell_type": "code",
      "source": [
        ""
      ],
      "metadata": {
        "id": "q3dOlYcKv8TB"
      },
      "execution_count": null,
      "outputs": []
    }
  ]
}